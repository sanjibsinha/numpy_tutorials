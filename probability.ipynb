{
  "nbformat": 4,
  "nbformat_minor": 0,
  "metadata": {
    "colab": {
      "name": "probability.ipynb",
      "provenance": [],
      "authorship_tag": "ABX9TyNePdV+qk/xBEBIqI2bfp4w",
      "include_colab_link": true
    },
    "kernelspec": {
      "name": "python3",
      "display_name": "Python 3"
    },
    "language_info": {
      "name": "python"
    }
  },
  "cells": [
    {
      "cell_type": "markdown",
      "metadata": {
        "id": "view-in-github",
        "colab_type": "text"
      },
      "source": [
        "<a href=\"https://colab.research.google.com/github/sanjibsinha/numpy_tutorials/blob/google-colabs/probability.ipynb\" target=\"_parent\"><img src=\"https://colab.research.google.com/assets/colab-badge.svg\" alt=\"Open In Colab\"/></a>"
      ]
    },
    {
      "cell_type": "code",
      "execution_count": 3,
      "metadata": {
        "colab": {
          "base_uri": "https://localhost:8080/"
        },
        "id": "cBowr79vJNtY",
        "outputId": "9f56c09f-17b1-43d9-8fee-e446cca4b441"
      },
      "outputs": [
        {
          "output_type": "stream",
          "name": "stdout",
          "text": [
            "1\n",
            "The probability of getting 2 is: 0.166667\n"
          ]
        }
      ],
      "source": [
        "def count_number_of_elements_in_array(the_array, match_element):\n",
        "    count_numbers = 0\n",
        "    for val in the_array:\n",
        "        if val == match_element:\n",
        "            count_numbers = count_numbers + 1\n",
        "    return count_numbers\n",
        "\n",
        "dice = [1, 2, 3, 4, 5, 6]\n",
        "the_element = 3\n",
        "\n",
        "print(count_number_of_elements_in_array(dice, the_element))\n",
        "\n",
        "length = len(dice)\n",
        "\n",
        "total_number_of_elements = count_number_of_elements_in_array(dice, the_element)\n",
        "the_probability = round(total_number_of_elements / length, 6)\n",
        "print(f'The probability of getting 2 is: {the_probability}')"
      ]
    }
  ]
}