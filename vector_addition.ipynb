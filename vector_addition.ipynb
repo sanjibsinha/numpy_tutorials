{
  "nbformat": 4,
  "nbformat_minor": 0,
  "metadata": {
    "colab": {
      "name": "vector-addition.ipynb",
      "provenance": [],
      "collapsed_sections": [],
      "authorship_tag": "ABX9TyOah4iRfXz/PrR1Dea02Afp",
      "include_colab_link": true
    },
    "kernelspec": {
      "name": "python3",
      "display_name": "Python 3"
    },
    "language_info": {
      "name": "python"
    }
  },
  "cells": [
    {
      "cell_type": "markdown",
      "metadata": {
        "id": "view-in-github",
        "colab_type": "text"
      },
      "source": [
        "<a href=\"https://colab.research.google.com/github/sanjibsinha/numpy_tutorials/blob/matrix/vector_addition.ipynb\" target=\"_parent\"><img src=\"https://colab.research.google.com/assets/colab-badge.svg\" alt=\"Open In Colab\"/></a>"
      ]
    },
    {
      "cell_type": "code",
      "execution_count": null,
      "metadata": {
        "colab": {
          "base_uri": "https://localhost:8080/",
          "height": 281
        },
        "id": "JTFcCTu6i0mW",
        "outputId": "44a61f4f-bc06-4e7e-fa10-a8cae57b43e5"
      },
      "outputs": [
        {
          "output_type": "display_data",
          "data": {
            "text/plain": [
              "<Figure size 432x288 with 1 Axes>"
            ],
            "image/png": "[encoded data removed]"
          },
          "metadata": {
            "needs_background": "light"
          }
        }
      ],
      "source": [
        "import matplotlib.pyplot as plt\n",
        "\n",
        "# a Vector can originate anywhere, yet we can set location \n",
        "X = [0]\n",
        "Y = [0]\n",
        "\n",
        "# Directional vectors \n",
        "\n",
        "U = [6]\n",
        "V = [3]\n",
        "\n",
        "# Creating plot\n",
        "plt.quiver(X, Y, U, V, color='b', units='xy', scale=1)\n",
        "plt.title('Single Vector')\n",
        "\n",
        "# x axis limit and y axis limit\n",
        "plt.xlim(-10, 10)\n",
        "plt.ylim(-10, 10)\n",
        "\n",
        "# Show plot with grid just like a graph paper\n",
        "plt.grid()\n",
        "plt.show()"
      ]
    }
  ]
}