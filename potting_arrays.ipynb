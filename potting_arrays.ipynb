{
  "nbformat": 4,
  "nbformat_minor": 0,
  "metadata": {
    "colab": {
      "name": "potting-arrays.ipynb",
      "provenance": [],
      "authorship_tag": "ABX9TyO1UHPc5AAHUWfRhWBwn48G",
      "include_colab_link": true
    },
    "kernelspec": {
      "name": "python3",
      "display_name": "Python 3"
    },
    "language_info": {
      "name": "python"
    }
  },
  "cells": [
    {
      "cell_type": "markdown",
      "metadata": {
        "id": "view-in-github",
        "colab_type": "text"
      },
      "source": [
        "<a href=\"https://colab.research.google.com/github/sanjibsinha/numpy_tutorials/blob/google-colabs/potting_arrays.ipynb\" target=\"_parent\"><img src=\"https://colab.research.google.com/assets/colab-badge.svg\" alt=\"Open In Colab\"/></a>"
      ]
    },
    {
      "cell_type": "code",
      "execution_count": 2,
      "metadata": {
        "colab": {
          "base_uri": "https://localhost:8080/",
          "height": 295
        },
        "id": "i3lA1U3drwSI",
        "outputId": "a5995ac3-04ed-406b-ec0e-0c71df53b503"
      },
      "outputs": [
        {
          "output_type": "display_data",
          "data": {
            "text/plain": [
              "<Figure size 432x288 with 1 Axes>"
            ],
            "image/png": "[encoded data removed]"
          },
          "metadata": {
            "needs_background": "light"
          }
        }
      ],
      "source": [
        "import numpy as np \n",
        "import matplotlib.pyplot as plt\n",
        "\n",
        "first = np.array([[2, -7], [-6, 2]])\n",
        "second = np.array([[5, 8], [3, 6]])\n",
        "\n",
        "# PLotting two arrays or single vectors\n",
        "\n",
        "plt.plot(first,second) \n",
        "\n",
        "# Add Title\n",
        "\n",
        "plt.title(\"Matplotlib PLotting NumPy Arrays\") \n",
        "\n",
        "# Add Axes Labels\n",
        "\n",
        "plt.xlabel(\"x axis\") \n",
        "plt.ylabel(\"y axis\") \n",
        "\n",
        "# x axis limit and y axis limit\n",
        "plt.xlim(-10, 10)\n",
        "plt.ylim(-10, 10)\n",
        "\n",
        "# Show plot with grid just like a graph paper\n",
        "plt.grid()\n",
        "\n",
        "# Display\n",
        "\n",
        "plt.show()\n"
      ]
    }
  ]
}