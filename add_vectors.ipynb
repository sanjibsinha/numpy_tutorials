{
  "nbformat": 4,
  "nbformat_minor": 0,
  "metadata": {
    "colab": {
      "name": "add-vectors.ipynb",
      "provenance": [],
      "collapsed_sections": [],
      "authorship_tag": "ABX9TyMhUXs7ieTIID/7eV6lZm2Z",
      "include_colab_link": true
    },
    "kernelspec": {
      "name": "python3",
      "display_name": "Python 3"
    },
    "language_info": {
      "name": "python"
    }
  },
  "cells": [
    {
      "cell_type": "markdown",
      "metadata": {
        "id": "view-in-github",
        "colab_type": "text"
      },
      "source": [
        "<a href=\"https://colab.research.google.com/github/sanjibsinha/numpy_tutorials/blob/google-colabs/add_vectors.ipynb\" target=\"_parent\"><img src=\"https://colab.research.google.com/assets/colab-badge.svg\" alt=\"Open In Colab\"/></a>"
      ]
    },
    {
      "cell_type": "code",
      "execution_count": 4,
      "metadata": {
        "colab": {
          "base_uri": "https://localhost:8080/",
          "height": 330
        },
        "id": "FeJBc94KuFYY",
        "outputId": "b96a0a09-a72a-47c8-e976-5e2eb373a3e1"
      },
      "outputs": [
        {
          "output_type": "stream",
          "name": "stdout",
          "text": [
            "[[ 7  1]\n",
            " [-3  8]]\n"
          ]
        },
        {
          "output_type": "display_data",
          "data": {
            "text/plain": [
              "<Figure size 432x288 with 1 Axes>"
            ],
            "image/png": "[encoded data removed]"
          },
          "metadata": {
            "needs_background": "light"
          }
        }
      ],
      "source": [
        "import numpy as np \n",
        "import matplotlib.pyplot as plt\n",
        "\n",
        "first = np.array([[2, -7], [-6, 2]])\n",
        "second = np.array([[5, 8], [3, 6]])\n",
        "\n",
        "# PLotting addition of two arrays or single vectors\n",
        "\n",
        "sum_of_two_arrays = np.add(first, second)\n",
        "\n",
        "print(sum_of_two_arrays)\n",
        "\n",
        "plt.plot(first, second) \n",
        "plt.plot(sum_of_two_arrays[0], sum_of_two_arrays[1]) \n",
        "\n",
        "# Add Title\n",
        "\n",
        "plt.title(\"Matplotlib PLotting NumPy Arrays\") \n",
        "\n",
        "# Add Axes Labels\n",
        "\n",
        "plt.xlabel(\"x axis\") \n",
        "plt.ylabel(\"y axis\") \n",
        "\n",
        "# x axis limit and y axis limit\n",
        "plt.xlim(-10, 10)\n",
        "plt.ylim(-10, 10)\n",
        "\n",
        "# Show plot with grid just like a graph paper\n",
        "plt.grid()\n",
        "\n",
        "# Display\n",
        "\n",
        "plt.show()"
      ]
    }
  ]
}