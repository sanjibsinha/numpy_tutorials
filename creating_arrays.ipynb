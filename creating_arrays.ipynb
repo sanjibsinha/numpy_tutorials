{
  "nbformat": 4,
  "nbformat_minor": 0,
  "metadata": {
    "colab": {
      "name": "creating-arrays.ipynb",
      "provenance": [],
      "collapsed_sections": [],
      "authorship_tag": "ABX9TyNzNNjmNs99/ky8IzGJA+ZB",
      "include_colab_link": true
    },
    "kernelspec": {
      "name": "python3",
      "display_name": "Python 3"
    },
    "language_info": {
      "name": "python"
    }
  },
  "cells": [
    {
      "cell_type": "markdown",
      "metadata": {
        "id": "view-in-github",
        "colab_type": "text"
      },
      "source": [
        "<a href=\"https://colab.research.google.com/github/sanjibsinha/numpy_tutorials/blob/google-colabs/creating_arrays.ipynb\" target=\"_parent\"><img src=\"https://colab.research.google.com/assets/colab-badge.svg\" alt=\"Open In Colab\"/></a>"
      ]
    },
    {
      "cell_type": "code",
      "execution_count": 2,
      "metadata": {
        "colab": {
          "base_uri": "https://localhost:8080/"
        },
        "id": "q1MZEojsouXe",
        "outputId": "4b18513d-733e-4310-f061-130b098e829f"
      },
      "outputs": [
        {
          "output_type": "stream",
          "name": "stdout",
          "text": [
            "1st Input array :  [[ 2 -7]\n",
            " [-6  2]]\n",
            "2nd Input array :  [[5 8]\n",
            " [3 6]]\n"
          ]
        }
      ],
      "source": [
        "import numpy as np \n",
        "import matplotlib.pyplot as plt\n",
        "\n",
        "first = np.array([[2, -7], [-6, 2]])\n",
        "second = np.array([[5, 8], [3, 6]])\n",
        "   \n",
        "print (\"1st Input array : \",first) \n",
        "print (\"2nd Input array : \", second) \n",
        "\n"
      ]
    }
  ]
}